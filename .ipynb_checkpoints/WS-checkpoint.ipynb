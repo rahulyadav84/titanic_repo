{
 "cells": [
  {
   "cell_type": "code",
   "execution_count": 1,
   "metadata": {},
   "outputs": [],
   "source": [
    "import pandas as pd\n",
    "import numpy as np\n",
    "import os"
   ]
  },
  {
   "cell_type": "code",
   "execution_count": 4,
   "metadata": {},
   "outputs": [
    {
     "name": "stdout",
     "output_type": "stream",
     "text": [
      "C:\\Users\\i824055\\OneDrive - SAP SE\\Python\\Ex_Files_Code_Clinic_Python\\Ex_Files_Code_Clinic_Python\\Exercise Files\\Ch01\\resources\\Environmental_Data_Deep_Moor_2012.txt\n",
      "C:\\Users\\i824055\\OneDrive - SAP SE\\Python\\Ex_Files_Code_Clinic_Python\\Ex_Files_Code_Clinic_Python\\Exercise Files\\Ch01\\resources\\Environmental_Data_Deep_Moor_2013.txt\n",
      "C:\\Users\\i824055\\OneDrive - SAP SE\\Python\\Ex_Files_Code_Clinic_Python\\Ex_Files_Code_Clinic_Python\\Exercise Files\\Ch01\\resources\\Environmental_Data_Deep_Moor_2014.txt\n",
      "C:\\Users\\i824055\\OneDrive - SAP SE\\Python\\Ex_Files_Code_Clinic_Python\\Ex_Files_Code_Clinic_Python\\Exercise Files\\Ch01\\resources\\Environmental_Data_Deep_Moor_2015.txt\n",
      "4 File(s) copied\n"
     ]
    }
   ],
   "source": [
    "#copy tempretature data from exercise folder to project folder\n",
    "!xcopy \"C:\\Users\\i824055\\OneDrive - SAP SE\\Python\\Ex_Files_Code_Clinic_Python\\Ex_Files_Code_Clinic_Python\\Exercise Files\\Ch01\\resources\" \"C:\\Users\\i824055\\PycharmProjects\\titanic_repo\\data\" /E"
   ]
  },
  {
   "cell_type": "code",
   "execution_count": 12,
   "metadata": {},
   "outputs": [
    {
     "name": "stdout",
     "output_type": "stream",
     "text": [
      "['Environmental_Data_Deep_Moor_2012.txt', 'Environmental_Data_Deep_Moor_2013.txt', 'Environmental_Data_Deep_Moor_2014.txt', 'Environmental_Data_Deep_Moor_2015.txt']\n",
      "..\\data\\enviroment\n"
     ]
    }
   ],
   "source": [
    "data_path = os.path.join(os.path.pardir,'data')\n",
    "exercise_folder = os.path.join(data_path,'enviroment')\n",
    "for r,d,f in os.walk(exercise_folder):\n",
    "    print(f)\n",
    "print(exercise_folder)"
   ]
  },
  {
   "cell_type": "code",
   "execution_count": null,
   "metadata": {},
   "outputs": [],
   "source": [
    "pd.read_csv"
   ]
  }
 ],
 "metadata": {
  "kernelspec": {
   "display_name": "Python 3",
   "language": "python",
   "name": "python3"
  },
  "language_info": {
   "codemirror_mode": {
    "name": "ipython",
    "version": 3
   },
   "file_extension": ".py",
   "mimetype": "text/x-python",
   "name": "python",
   "nbconvert_exporter": "python",
   "pygments_lexer": "ipython3",
   "version": "3.7.3"
  }
 },
 "nbformat": 4,
 "nbformat_minor": 2
}
