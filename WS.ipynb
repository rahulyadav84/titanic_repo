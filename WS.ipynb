{
 "cells": [
  {
   "cell_type": "code",
   "execution_count": 187,
   "metadata": {},
   "outputs": [],
   "source": [
    "import pandas as pd\n",
    "import numpy as np\n",
    "import os\n",
    "import re\n",
    "import datetime"
   ]
  },
  {
   "cell_type": "code",
   "execution_count": 378,
   "metadata": {
    "scrolled": true
   },
   "outputs": [],
   "source": [
    "data_path = os.path.join(os.path.pardir,'data')\n",
    "exercise_folder = os.path.join(data_path,'enviroment')\n",
    "df1 = pd.DataFrame()\n",
    "for r,d,f in os.walk(exercise_folder):\n",
    "    for f1 in f:\n",
    "        p_in = os.path.join(exercise_folder,f1)\n",
    "        p_out = os.path.join(exercise_folder,'_'+f1)\n",
    "        with open(p_out,'w') as output_file:\n",
    "            with open(p_in,'rt') as input_file:\n",
    "                for line in input_file.readlines():\n",
    "                    line_temp = re.sub(' +|\t+|\t *',',',line)\n",
    "                    output_file.write(re.sub(',,',',',line_temp))\n",
    "        df1 = pd.concat((df1,pd.read_csv(p_out)))"
   ]
  },
  {
   "cell_type": "code",
   "execution_count": 595,
   "metadata": {},
   "outputs": [
    {
     "data": {
      "text/html": [
       "<div>\n",
       "<style scoped>\n",
       "    .dataframe tbody tr th:only-of-type {\n",
       "        vertical-align: middle;\n",
       "    }\n",
       "\n",
       "    .dataframe tbody tr th {\n",
       "        vertical-align: top;\n",
       "    }\n",
       "\n",
       "    .dataframe thead th {\n",
       "        text-align: right;\n",
       "    }\n",
       "</style>\n",
       "<table border=\"1\" class=\"dataframe\">\n",
       "  <thead>\n",
       "    <tr style=\"text-align: right;\">\n",
       "      <th></th>\n",
       "      <th>date</th>\n",
       "      <th>time</th>\n",
       "      <th>Air_Temp</th>\n",
       "      <th>Barometric_Press</th>\n",
       "      <th>Dew_Point</th>\n",
       "      <th>Relative_Humidity</th>\n",
       "      <th>Wind_Dir</th>\n",
       "      <th>Wind_Gust</th>\n",
       "      <th>Wind_Speed</th>\n",
       "      <th>date_time1</th>\n",
       "    </tr>\n",
       "  </thead>\n",
       "  <tbody>\n",
       "    <tr>\n",
       "      <th>68918</th>\n",
       "      <td>2015_06_04</td>\n",
       "      <td>00:59:21</td>\n",
       "      <td>57.84</td>\n",
       "      <td>29.95</td>\n",
       "      <td>51.76</td>\n",
       "      <td>80.2</td>\n",
       "      <td>179.80</td>\n",
       "      <td>8.0</td>\n",
       "      <td>6.2</td>\n",
       "      <td>20150604005921</td>\n",
       "    </tr>\n",
       "    <tr>\n",
       "      <th>68919</th>\n",
       "      <td>2015_06_04</td>\n",
       "      <td>01:01:59</td>\n",
       "      <td>57.74</td>\n",
       "      <td>29.95</td>\n",
       "      <td>51.26</td>\n",
       "      <td>79.0</td>\n",
       "      <td>180.00</td>\n",
       "      <td>8.0</td>\n",
       "      <td>6.6</td>\n",
       "      <td>20150604010159</td>\n",
       "    </tr>\n",
       "    <tr>\n",
       "      <th>68920</th>\n",
       "      <td>2015_06_04</td>\n",
       "      <td>01:04:21</td>\n",
       "      <td>57.70</td>\n",
       "      <td>29.95</td>\n",
       "      <td>51.22</td>\n",
       "      <td>79.0</td>\n",
       "      <td>179.41</td>\n",
       "      <td>9.0</td>\n",
       "      <td>6.8</td>\n",
       "      <td>20150604010421</td>\n",
       "    </tr>\n",
       "    <tr>\n",
       "      <th>68921</th>\n",
       "      <td>2015_06_04</td>\n",
       "      <td>01:06:59</td>\n",
       "      <td>57.70</td>\n",
       "      <td>29.95</td>\n",
       "      <td>51.28</td>\n",
       "      <td>79.2</td>\n",
       "      <td>167.78</td>\n",
       "      <td>11.0</td>\n",
       "      <td>8.8</td>\n",
       "      <td>20150604010659</td>\n",
       "    </tr>\n",
       "    <tr>\n",
       "      <th>68922</th>\n",
       "      <td>2015_06_04</td>\n",
       "      <td>01:09:21</td>\n",
       "      <td>57.70</td>\n",
       "      <td>29.95</td>\n",
       "      <td>51.22</td>\n",
       "      <td>79.0</td>\n",
       "      <td>163.40</td>\n",
       "      <td>12.0</td>\n",
       "      <td>10.0</td>\n",
       "      <td>20150604010921</td>\n",
       "    </tr>\n",
       "  </tbody>\n",
       "</table>\n",
       "</div>"
      ],
      "text/plain": [
       "             date      time  Air_Temp  Barometric_Press  Dew_Point  \\\n",
       "68918  2015_06_04  00:59:21     57.84             29.95      51.76   \n",
       "68919  2015_06_04  01:01:59     57.74             29.95      51.26   \n",
       "68920  2015_06_04  01:04:21     57.70             29.95      51.22   \n",
       "68921  2015_06_04  01:06:59     57.70             29.95      51.28   \n",
       "68922  2015_06_04  01:09:21     57.70             29.95      51.22   \n",
       "\n",
       "       Relative_Humidity  Wind_Dir  Wind_Gust  Wind_Speed      date_time1  \n",
       "68918               80.2    179.80        8.0         6.2  20150604005921  \n",
       "68919               79.0    180.00        8.0         6.6  20150604010159  \n",
       "68920               79.0    179.41        9.0         6.8  20150604010421  \n",
       "68921               79.2    167.78       11.0         8.8  20150604010659  \n",
       "68922               79.0    163.40       12.0        10.0  20150604010921  "
      ]
     },
     "execution_count": 595,
     "metadata": {},
     "output_type": "execute_result"
    }
   ],
   "source": [
    "def comb_datetime(a,b):\n",
    "    l1 = a.split('_')\n",
    "    l2 = b.split(':')\n",
    "    a = datetime.datetime(int(l1[0]),int(l1[1]),int(l1[2]),\n",
    "                         int(l2[0]),int(l2[1]),int(l2[2]))\n",
    "    return a.year*10000000000+a.month*100000000+a.day*1000000+a.hour*10000+a.minute*100+a.second\n",
    "#    return l\n",
    "df1[\"date_time1\"] = [o for o in map(comb_datetime,df1[\"date\"],df1[\"time\"])]\n",
    "df1.tail()"
   ]
  },
  {
   "cell_type": "code",
   "execution_count": 599,
   "metadata": {},
   "outputs": [
    {
     "name": "stderr",
     "output_type": "stream",
     "text": [
      "C:\\Users\\i824055\\AppData\\Local\\Continuum\\anaconda3\\lib\\site-packages\\ipykernel_launcher.py:30: SettingWithCopyWarning: \n",
      "A value is trying to be set on a copy of a slice from a DataFrame.\n",
      "Try using .loc[row_indexer,col_indexer] = value instead\n",
      "\n",
      "See the caveats in the documentation: http://pandas.pydata.org/pandas-docs/stable/indexing.html#indexing-view-versus-copy\n",
      "C:\\Users\\i824055\\AppData\\Local\\Continuum\\anaconda3\\lib\\site-packages\\ipykernel_launcher.py:31: SettingWithCopyWarning: \n",
      "A value is trying to be set on a copy of a slice from a DataFrame\n",
      "\n",
      "See the caveats in the documentation: http://pandas.pydata.org/pandas-docs/stable/indexing.html#indexing-view-versus-copy\n"
     ]
    },
    {
     "name": "stdout",
     "output_type": "stream",
     "text": [
      "0.002020202020202013\n"
     ]
    },
    {
     "name": "stderr",
     "output_type": "stream",
     "text": [
      "C:\\Users\\i824055\\AppData\\Local\\Continuum\\anaconda3\\lib\\site-packages\\ipykernel_launcher.py:32: SettingWithCopyWarning: \n",
      "A value is trying to be set on a copy of a slice from a DataFrame\n",
      "\n",
      "See the caveats in the documentation: http://pandas.pydata.org/pandas-docs/stable/indexing.html#indexing-view-versus-copy\n"
     ]
    },
    {
     "data": {
      "text/plain": [
       "<matplotlib.axes._subplots.AxesSubplot at 0x1c6c0047eb8>"
      ]
     },
     "execution_count": 599,
     "metadata": {},
     "output_type": "execute_result"
    },
    {
     "data": {
      "image/png": "[encoded data removed]",
      "text/plain": [
       "<Figure size 432x288 with 1 Axes>"
      ]
     },
     "metadata": {
      "needs_background": "light"
     },
     "output_type": "display_data"
    }
   ],
   "source": [
    "%matplotlib inline\n",
    "def datetoint(a):\n",
    "    return a.year*10000000000+a.month*100000000+a.day*1000000+a.hour*10000+a.minute*100+a.second\n",
    "d = {'d2i':df1.date_time1,'Barometric_Press':df1.Barometric_Press}\n",
    "df15 = pd.DataFrame(d)\n",
    "df14 = df15.iloc[0:100]\n",
    "df15.head()\n",
    "t = df14.iterrows()\n",
    "i,v = next(t)\n",
    "ld = []\n",
    "def avg1(ld):\n",
    "    j = 0\n",
    "    for i,dp in ld:\n",
    "        j = j + dp\n",
    "    return j/len(ld)\n",
    "\n",
    "for l in range(len(df14.Barometric_Press)-1):\n",
    "    si,sv = next(t)\n",
    "    dv = sv-v\n",
    "    i = si\n",
    "    v = sv\n",
    "    ld.append(dv)\n",
    "\n",
    "bp_slope = avg1(ld)\n",
    "lv = df14.Barometric_Press[0]\n",
    "def m2dp(val):\n",
    "    global lv \n",
    "    lv = lv + bp_slope\n",
    "    return lv\n",
    "df14[\"lc\"] = -1\n",
    "df14[\"lc\"][1:] = [h for h in map(m2dp,df14.Barometric_Press[1:])]    \n",
    "df14[\"lc\"][0] = df14.Barometric_Press[0]\n",
    "#df14.Dew_Point.tail(100)\n",
    "print(bp_slope)\n",
    "df14.plot.scatter(x='d2i',y='lc')"
   ]
  },
  {
   "cell_type": "code",
   "execution_count": null,
   "metadata": {},
   "outputs": [],
   "source": []
  }
 ],
 "metadata": {
  "kernelspec": {
   "display_name": "Python 3",
   "language": "python",
   "name": "python3"
  },
  "language_info": {
   "codemirror_mode": {
    "name": "ipython",
    "version": 3
   },
   "file_extension": ".py",
   "mimetype": "text/x-python",
   "name": "python",
   "nbconvert_exporter": "python",
   "pygments_lexer": "ipython3",
   "version": "3.7.3"
  }
 },
 "nbformat": 4,
 "nbformat_minor": 2
}
